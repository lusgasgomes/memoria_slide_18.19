{
 "cells": [
  {
   "attachments": {},
   "cell_type": "markdown",
   "metadata": {},
   "source": [
    "# Sistema de Memória slide 18, 19."
   ]
  },
  {
   "attachments": {},
   "cell_type": "markdown",
   "metadata": {},
   "source": [
    "Projete um sistema de memória que possui 13 pinos de endereços e um barramento de dados (BD) que transporta 2 palavras por vez. O BD não pode exceder 64 bits e a palavra deve ser maior que a célula da memória. A memória deve ter capacidade de 8 Gbits. Depois do projeto, indique qual é o tamanho da palavra, da célula, do BD e do barramento de endereços, e desenhe o chip.\n"
   ]
  },
  {
   "cell_type": "code",
   "execution_count": null,
   "metadata": {},
   "outputs": [],
   "source": [
    "from IPython.display import Image\n",
    "Image(filename='projeto 1.png')"
   ]
  },
  {
   "attachments": {},
   "cell_type": "markdown",
   "metadata": {},
   "source": [
    "#### Tamanho da palavra --> 16 bits\n",
    "#### Tamanho da célula ---> 8 bits\n",
    "#### Tamanho do BD -------> 16 bits\n",
    "#### Tamanho do BE -------> 19 bits"
   ]
  },
  {
   "attachments": {},
   "cell_type": "markdown",
   "metadata": {},
   "source": [
    "Projete um sistema de memória que possui 16 linhas de dados (BD). Os pinos de endereço precisam ser menores que 14. A memória deve ter capacidade de 32 Gbits. Justifique cada decisão do projeto. Desenhe o chip. Qual é o tamanho do barramento de endereços?"
   ]
  },
  {
   "cell_type": "code",
   "execution_count": null,
   "metadata": {},
   "outputs": [],
   "source": [
    "from IPython.display import Image\n",
    "Image(filename='projeto 2.png')"
   ]
  },
  {
   "attachments": {},
   "cell_type": "markdown",
   "metadata": {},
   "source": [
    "#### Tamanho do BE -------> 20 bits"
   ]
  }
 ],
 "metadata": {
  "kernelspec": {
   "display_name": "Python 3",
   "language": "python",
   "name": "python3"
  },
  "language_info": {
   "codemirror_mode": {
    "name": "ipython",
    "version": 3
   },
   "file_extension": ".py",
   "mimetype": "text/x-python",
   "name": "python",
   "nbconvert_exporter": "python",
   "pygments_lexer": "ipython3",
   "version": "3.11.2"
  },
  "orig_nbformat": 4
 },
 "nbformat": 4,
 "nbformat_minor": 2
}
